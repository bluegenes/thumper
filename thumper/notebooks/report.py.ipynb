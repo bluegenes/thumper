{
 "cells": [
  {
   "cell_type": "code",
   "execution_count": 2,
   "id": "223a6714-6b32-4b81-b8f6-71a6395b6f6b",
   "metadata": {},
   "outputs": [],
   "source": [
    "import os\n",
    "import pandas as pd"
   ]
  },
  {
   "cell_type": "code",
   "execution_count": 3,
   "id": "1f5ac018-f4ce-4a4a-be60-ce265ce7f5d1",
   "metadata": {},
   "outputs": [],
   "source": [
    "classif_csv= snakemake.input.csv\n",
    "query_manifest = snakemake.input.query_manifest\n",
    "report_html = snakemake.output[0]"
   ]
  },
  {
   "cell_type": "code",
   "execution_count": 4,
   "id": "a4aefa60-0538-466c-ab4b-4fd7c82a7e31",
   "metadata": {},
   "outputs": [],
   "source": [
    "classif= pd.read_csv(classif_csv)\n",
    "classif"
   ]
  },
  {
   "cell_type": "code",
   "execution_count": 5,
   "id": "76fb5ddc",
   "metadata": {},
   "outputs": [],
   "source": [
    "query_manifest= pd.read_csv(query_manifest)\n",
    "query_manifest"
   ]
  },
  {
   "cell_type": "code",
   "execution_count": null,
   "id": "2bd53bc2",
   "metadata": {},
   "outputs": [],
   "source": []
  },
  {
   "cell_type": "code",
   "execution_count": 6,
   "id": "c5d8e31f-b811-457b-a79d-3dc9ac8ad9fc",
   "metadata": {},
   "outputs": [],
   "source": [
    "#def\n",
    "# metadata, from params?\n",
    "#ksize = params.ksize\n",
    "#alphabet = params.alphabet\n",
    "\n",
    "#summary stats\n",
    "# - total genomes classified\n",
    "#   - classified at each rank\n"
   ]
  },
  {
   "cell_type": "code",
   "execution_count": 7,
   "id": "f1ec15bc-e773-4b08-8ca7-6aa9542cb935",
   "metadata": {},
   "outputs": [],
   "source": [
    "!touch {report_html}"
   ]
  },
  {
   "cell_type": "code",
   "execution_count": null,
   "id": "ffcebede",
   "metadata": {},
   "outputs": [],
   "source": []
  }
 ],
 "metadata": {
  "kernelspec": {
   "display_name": "Python 3 (ipykernel)",
   "language": "python",
   "name": "python3"
  },
  "language_info": {
   "codemirror_mode": {
    "name": "ipython",
    "version": 3
   },
   "file_extension": ".py",
   "mimetype": "text/x-python",
   "name": "python",
   "nbconvert_exporter": "python",
   "pygments_lexer": "ipython3",
   "version": "3.9.6"
  }
 },
 "nbformat": 4,
 "nbformat_minor": 5
}
