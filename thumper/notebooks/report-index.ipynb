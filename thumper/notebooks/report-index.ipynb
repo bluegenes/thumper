{
 "cells": [
  {
   "cell_type": "code",
   "execution_count": 1,
   "metadata": {
    "tags": [
     "parameters"
    ]
   },
   "outputs": [],
   "source": [
    "import os\n",
    "directory = '../../output.demo'\n",
    "database= \"gtdb-genus-n0.protein-k11-scaled100\" #,gtdb-genus-n0.nucleotide-k21-scaled1000,gtdb-genus-n0.dayhoff-k19-scaled100\"\n",
    "render='svg'\n",
    "name=\"demo\""
   ]
  },
  {
   "cell_type": "code",
   "execution_count": 2,
   "metadata": {},
   "outputs": [],
   "source": [
    "# NTP: this is currently just a port from Charcoal, not useful as-is. fix/extend!"
   ]
  },
  {
   "cell_type": "code",
   "execution_count": 3,
   "metadata": {},
   "outputs": [
    {
     "data": {
      "text/markdown": [
       "# taxonomic summary report for `demo.x.gtdb-genus-n0.protein-k11-scaled100`"
      ],
      "text/plain": [
       "<IPython.core.display.Markdown object>"
      ]
     },
     "metadata": {},
     "output_type": "display_data"
    }
   ],
   "source": [
    "from thumper.charcoal_utils import CSV_DictHelper\n",
    "from IPython.display import display, Markdown\n",
    "\n",
    "summary = CSV_DictHelper(f'{directory}/classify/{name}.x.{database}.taxonomy-report.csv', 'genome')\n",
    "display(Markdown(f\"# taxonomic summary report for `{name}.x.{database}`\"))"
   ]
  },
  {
   "cell_type": "code",
   "execution_count": 4,
   "metadata": {},
   "outputs": [],
   "source": [
    "import plotly.graph_objects as go\n",
    "from thumper import charcoal_utils as utils\n",
    "import collections\n",
    "import os"
   ]
  },
  {
   "cell_type": "code",
   "execution_count": 5,
   "metadata": {},
   "outputs": [],
   "source": [
    "# calculate and display some basic statistics\n",
    "#summary = utils.CSV_DictHelper(f'{directory}/genome_summary.csv', 'genome')\n",
    "summary = utils.CSV_DictHelper(f'{directory}/classify/{name}.x.{database}.taxonomy-report.csv', 'genome')\n",
    "\n",
    "all_genomes = set(summary)\n",
    "\n",
    "n_genomes = len(all_genomes)\n",
    "no_lineage = set([ k for k in all_genomes if not summary[k].lineage ])\n",
    "n_no_lineage = len(no_lineage)\n",
    "all_genomes -= no_lineage\n",
    "\n",
    "no_genus_contam = set([ k for k in all_genomes if int(summary[k].genus_bad_bp) == 0 ])\n",
    "n_no_contam = len(no_genus_contam)\n",
    "all_genomes -= no_genus_contam\n",
    "contaminated_list = set(all_genomes)\n",
    "clean_list = set(no_genus_contam)\n",
    "\n",
    "#needs_lineage = [ k for k in no_lineage if int(summary[k].needs_lineage_flag) ]\n",
    "#n_needs_lineage = len(needs_lineage)\n",
    "\n",
    "first_contam = {}\n",
    "ignore = set()\n",
    "\n",
    "for rank in 'superkingdom', 'phylum', 'class', 'order', 'family', 'genus':\n",
    "    n = 0\n",
    "    for genome in all_genomes:\n",
    "        bad_bp = int(summary[genome][f'{rank}_bad_bp'])\n",
    "        if genome in ignore:\n",
    "            continue\n",
    "        if bad_bp:\n",
    "            n += 1\n",
    "            ignore.add(genome)\n",
    "            continue\n",
    "    first_contam[rank] = n\n",
    "    \n",
    "def display_genome_list(names_to_show, order_by=None, reverse=True):\n",
    "    # select only those we want to show\n",
    "    values = [ summary[k] for k in names_to_show ]\n",
    "    \n",
    "    # sort by:\n",
    "    if order_by:\n",
    "        values.sort(key=lambda x: int(x[order_by]))\n",
    "        if reverse: values.reverse()\n",
    "    else:\n",
    "        values.sort(key = lambda x: x.genome)\n",
    "    \n",
    "    output = []\n",
    "    for row in values:\n",
    "        output.append(f\"* [`{row.genome}`]({row.genome}.fig.html)\")\n",
    "    \n",
    "    return \"\\n\".join(output)\n",
    "\n",
    "def display_no_lineage_list():\n",
    "    values = [ summary[k] for k in summary if not summary[k].lineage ]\n",
    "    \n",
    "    x = []\n",
    "    for row in values:\n",
    "        x.append(f\"* `{row.genome}` - {row.comment}\")\n",
    "        \n",
    "    return \"\\n\".join(x)"
   ]
  },
  {
   "cell_type": "code",
   "execution_count": 6,
   "metadata": {},
   "outputs": [
    {
     "data": {
      "image/svg+xml": [
       "<svg class=\"main-svg\" xmlns=\"http://www.w3.org/2000/svg\" xmlns:xlink=\"http://www.w3.org/1999/xlink\" width=\"1000\" height=\"450\" style=\"\" viewBox=\"0 0 1000 450\"><rect x=\"0\" y=\"0\" width=\"1000\" height=\"450\" style=\"fill: rgb(255, 255, 255); fill-opacity: 1;\"/><defs id=\"defs-0b5bbe\"><g class=\"clips\"/><g class=\"gradients\"/></defs><g class=\"bglayer\"/><g class=\"layer-below\"><g class=\"imagelayer\"/><g class=\"shapelayer\"/></g><g class=\"cartesianlayer\"/><g class=\"polarlayer\"/><g class=\"ternarylayer\"/><g class=\"geolayer\"/><g class=\"funnelarealayer\"/><g class=\"pielayer\"/><g class=\"treemaplayer\"><g class=\"trace treemap\" style=\"opacity: 1;\"/></g><g class=\"sunburstlayer\"/><g class=\"glimages\"/><defs id=\"topdefs-0b5bbe\"><g class=\"clips\"/></defs><g class=\"layer-above\"><g class=\"imagelayer\"/><g class=\"shapelayer\"/></g><g class=\"infolayer\"><g class=\"g-gtitle\"><text class=\"gtitle\" x=\"50\" y=\"50\" text-anchor=\"start\" dy=\"0em\" style=\"font-family: 'Open Sans', verdana, arial, sans-serif; font-size: 17px; fill: rgb(42, 63, 95); opacity: 1; font-weight: normal; white-space: pre;\">summary of charcoal run for demo</text></g></g></svg>"
      ]
     },
     "metadata": {},
     "output_type": "display_data"
    }
   ],
   "source": [
    "labels = [\"all genomes\", \"all analyzed\", \"contaminated\", \"no contamination\", \"not analyzed\", \"no matches\"] #, \"needs lineage\"]\n",
    "parents = [ \"\", \"all genomes\", \"all analyzed\", \"all analyzed\", \"all genomes\", \"not analyzed\", \"not analyzed\"]\n",
    "\n",
    "# get basic numbers in --\n",
    "values = [ len(summary),\n",
    "           len(summary) - n_no_lineage,\n",
    "           len(contaminated_list),\n",
    "           n_no_contam,\n",
    "           n_no_lineage,\n",
    "           #n_no_lineage - n_needs_lineage,\n",
    "           #n_needs_lineage,\n",
    "           ]\n",
    "\n",
    "# add per-rank breakdown\n",
    "for rank in reversed(['superkingdom', 'phylum', 'class', 'order', 'family', 'genus']):\n",
    "    labels.append(rank)\n",
    "    parents.append('contaminated')\n",
    "    values.append(first_contam[rank])\n",
    "    \n",
    "# display!\n",
    "\n",
    "fig = go.Figure(go.Treemap(\n",
    "    branchvalues = \"total\",\n",
    "    labels = labels,\n",
    "    parents = parents,\n",
    "    values = values,\n",
    "    textinfo = \"label+value+percent entry\",\n",
    "    outsidetextfont = {\"size\": 20, \"color\": \"darkblue\"},\n",
    "    marker = {\"line\": {\"width\": 2}},\n",
    "    pathbar = {\"visible\": False}))\n",
    "\n",
    "fig.update_layout(treemapcolorway = [\"lavenderblush\", \"lightblue\"],\n",
    "                  title=f'summary of charcoal run for {name}')\n",
    "fig.show(render, width=1000)"
   ]
  },
  {
   "cell_type": "code",
   "execution_count": 7,
   "metadata": {},
   "outputs": [
    {
     "data": {
      "text/markdown": [
       "\n",
       "# Summary statistics\n",
       "\n",
       "charcoal examined 2 total genomes in `demo`.\n",
       "\n",
       "0 could not be analyzed for contamination; see Problem Report, below.\n",
       "\n",
       "0 had no observed contamination at any taxonomic level down to genus.\n",
       "\n",
       "Of the remaining 2 genomes,\n",
       "* 0 had their first observed contamination at **superkingdom**;\n",
       "* 0 had their first observed contamination at **phylum**;\n",
       "* 0 had their first observed contamination at **class**;\n",
       "* 1 had their first observed contamination at **order**;\n",
       "* 0 had their first observed contamination at **family**;\n",
       "* 1 had their first observed contamination at **genus**.\n"
      ],
      "text/plain": [
       "<IPython.core.display.Markdown object>"
      ]
     },
     "metadata": {},
     "output_type": "display_data"
    }
   ],
   "source": [
    "###### do display\n",
    "\n",
    "display(Markdown(f\"\"\"\n",
    "# Summary statistics\n",
    "\n",
    "charcoal examined {n_genomes} total genomes in `{name}`.\n",
    "\n",
    "{n_no_lineage} could not be analyzed for contamination; see Problem Report, below.\n",
    "\n",
    "{n_no_contam} had no observed contamination at any taxonomic level down to genus.\n",
    "\n",
    "Of the remaining {len(contaminated_list)} genomes,\n",
    "* {first_contam['superkingdom']} had their first observed contamination at **superkingdom**;\n",
    "* {first_contam['phylum']} had their first observed contamination at **phylum**;\n",
    "* {first_contam['class']} had their first observed contamination at **class**;\n",
    "* {first_contam['order']} had their first observed contamination at **order**;\n",
    "* {first_contam['family']} had their first observed contamination at **family**;\n",
    "* {first_contam['genus']} had their first observed contamination at **genus**.\n",
    "\"\"\"))"
   ]
  },
  {
   "cell_type": "code",
   "execution_count": 8,
   "metadata": {},
   "outputs": [],
   "source": [
    "\n",
    "def make_hitlist_data(hit_list_filename, omit_genus=True, num=10):\n",
    "    hits = utils.CSV_DictHelper(hit_list_filename, 'genome')\n",
    "    \n",
    "    endings = '.fna.gz', 'fa.gz', '.fa', '_genomic'\n",
    "    \n",
    "    # sort by sum of bad bp at specific rank\n",
    "    if omit_genus:\n",
    "        sort_by = 'family_bad_bp'\n",
    "    else:\n",
    "        sort_by = 'genus_bad_bp'\n",
    "    \n",
    "    # pick off the top num items, sorted by given sort_by\n",
    "    items = list(hits.rows.items())\n",
    "    items.sort(key=lambda item: -int(item[1][sort_by]))\n",
    "    items = items[:num]\n",
    "    items.reverse()\n",
    "    \n",
    "    hitlist_data = collections.defaultdict(list)\n",
    "    names = hitlist_data['names']\n",
    "    \n",
    "    # for each item, retrieve all tax rank bp values\n",
    "    for name, row in items:\n",
    "        # clean up names:\n",
    "        for end in endings:\n",
    "            if name.endswith(end): name = name[:-len(end)]\n",
    "        names.append(name)\n",
    "\n",
    "        last_bp = 0\n",
    "        for key in 'superkingdom', 'phylum', 'class', 'order', 'family', 'genus':\n",
    "            bp = row[f'{key}_bad_bp']\n",
    "            bp = int(bp)\n",
    "            values = hitlist_data[key]\n",
    "            values.append(bp - last_bp)\n",
    "            last_bp = bp\n",
    "            \n",
    "    return hitlist_data\n",
    "\n",
    "def plot_hitlist(hit_list_filename, omit_genus=True, num=10):\n",
    "    hitlist_data = make_hitlist_data(hit_list_filename, omit_genus, num)\n",
    "    \n",
    "    names = hitlist_data['names']\n",
    "\n",
    "    barchart_objs = []\n",
    "    for key in 'superkingdom', 'phylum', 'class', 'order', 'family', 'genus':\n",
    "        values = hitlist_data[key]\n",
    "        if omit_genus and key == 'genus': break\n",
    "            \n",
    "        bc_obj = go.Bar(name=key, y=names, x=values, orientation='h')\n",
    "        barchart_objs.append(bc_obj)\n",
    "        \n",
    "    fig = go.Figure(data=barchart_objs)\n",
    "    title = f'top genome contamination by taxonomic rank: {os.path.dirname(hit_list_filename)[7:]}'\n",
    "    fig.update_layout(barmode='stack', template='plotly',\n",
    "                      xaxis_title='Estimated contamination by rank',\n",
    "                      title=title)\n",
    "\n",
    "    return fig"
   ]
  },
  {
   "cell_type": "code",
   "execution_count": 9,
   "metadata": {},
   "outputs": [
    {
     "data": {
      "image/svg+xml": [
       "<svg class=\"main-svg\" xmlns=\"http://www.w3.org/2000/svg\" xmlns:xlink=\"http://www.w3.org/1999/xlink\" width=\"700\" height=\"450\" style=\"\" viewBox=\"0 0 700 450\"><rect x=\"0\" y=\"0\" width=\"700\" height=\"450\" style=\"fill: rgb(255, 255, 255); fill-opacity: 1;\"/><defs id=\"defs-e28dbd\"><g class=\"clips\"><clipPath id=\"clipe28dbdxyplot\" class=\"plotclip\"><rect width=\"433\" height=\"270\"/></clipPath><clipPath class=\"axesclip\" id=\"clipe28dbdx\"><rect x=\"115\" y=\"0\" width=\"433\" height=\"450\"/></clipPath><clipPath class=\"axesclip\" id=\"clipe28dbdy\"><rect x=\"0\" y=\"100\" width=\"700\" height=\"270\"/></clipPath><clipPath class=\"axesclip\" id=\"clipe28dbdxy\"><rect x=\"115\" y=\"100\" width=\"433\" height=\"270\"/></clipPath></g><g class=\"gradients\"/></defs><g class=\"bglayer\"><rect class=\"bg\" x=\"115\" y=\"100\" width=\"433\" height=\"270\" style=\"fill: rgb(229, 236, 246); fill-opacity: 1; stroke-width: 0;\"/></g><g class=\"layer-below\"><g class=\"imagelayer\"/><g class=\"shapelayer\"/></g><g class=\"cartesianlayer\"><g class=\"subplot xy\"><g class=\"layer-subplot\"><g class=\"shapelayer\"/><g class=\"imagelayer\"/></g><g class=\"gridlayer\"><g class=\"x\"><path class=\"xgrid crisp\" transform=\"translate(206.6,0)\" d=\"M0,100v270\" style=\"stroke: rgb(255, 255, 255); stroke-opacity: 1; stroke-width: 1px;\"/><path class=\"xgrid crisp\" transform=\"translate(298.2,0)\" d=\"M0,100v270\" style=\"stroke: rgb(255, 255, 255); stroke-opacity: 1; stroke-width: 1px;\"/><path class=\"xgrid crisp\" transform=\"translate(389.8,0)\" d=\"M0,100v270\" style=\"stroke: rgb(255, 255, 255); stroke-opacity: 1; stroke-width: 1px;\"/><path class=\"xgrid crisp\" transform=\"translate(481.39,0)\" d=\"M0,100v270\" style=\"stroke: rgb(255, 255, 255); stroke-opacity: 1; stroke-width: 1px;\"/></g><g class=\"y\"/></g><g class=\"zerolinelayer\"><path class=\"xzl zl crisp\" transform=\"translate(115,0)\" d=\"M0,100v270\" style=\"stroke: rgb(255, 255, 255); stroke-opacity: 1; stroke-width: 2px;\"/></g><path class=\"xlines-below\"/><path class=\"ylines-below\"/><g class=\"overlines-below\"/><g class=\"xaxislayer-below\"/><g class=\"yaxislayer-below\"/><g class=\"overaxes-below\"/><g class=\"plot\" transform=\"translate(115, 100)\" clip-path=\"url('#clipe28dbdxyplot')\"><g class=\"barlayer mlayer\"><g class=\"trace bars\" shape-rendering=\"crispEdges\" style=\"opacity: 1;\"><g class=\"points\"><g class=\"point\"><path d=\"M0,256.5V148.5H0V256.5Z\" style=\"vector-effect: non-scaling-stroke; opacity: 1; stroke-width: 0.5px; fill: rgb(99, 110, 250); fill-opacity: 1; stroke: rgb(229, 236, 246); stroke-opacity: 1;\"/></g><g class=\"point\"><path d=\"M0,121.5V13.5H0V121.5Z\" style=\"vector-effect: non-scaling-stroke; opacity: 1; stroke-width: 0.5px; fill: rgb(99, 110, 250); fill-opacity: 1; stroke: rgb(229, 236, 246); stroke-opacity: 1;\"/></g></g></g><g class=\"trace bars\" shape-rendering=\"crispEdges\" style=\"opacity: 1;\"><g class=\"points\"><g class=\"point\"><path d=\"M0,256.5V148.5H0V256.5Z\" style=\"vector-effect: non-scaling-stroke; opacity: 1; stroke-width: 0.5px; fill: rgb(239, 85, 59); fill-opacity: 1; stroke: rgb(229, 236, 246); stroke-opacity: 1;\"/></g><g class=\"point\"><path d=\"M0,121.5V13.5H0V121.5Z\" style=\"vector-effect: non-scaling-stroke; opacity: 1; stroke-width: 0.5px; fill: rgb(239, 85, 59); fill-opacity: 1; stroke: rgb(229, 236, 246); stroke-opacity: 1;\"/></g></g></g><g class=\"trace bars\" shape-rendering=\"crispEdges\" style=\"opacity: 1;\"><g class=\"points\"><g class=\"point\"><path d=\"M0,256.5V148.5H0V256.5Z\" style=\"vector-effect: non-scaling-stroke; opacity: 1; stroke-width: 0.5px; fill: rgb(0, 204, 150); fill-opacity: 1; stroke: rgb(229, 236, 246); stroke-opacity: 1;\"/></g><g class=\"point\"><path d=\"M0,121.5V13.5H0V121.5Z\" style=\"vector-effect: non-scaling-stroke; opacity: 1; stroke-width: 0.5px; fill: rgb(0, 204, 150); fill-opacity: 1; stroke: rgb(229, 236, 246); stroke-opacity: 1;\"/></g></g></g><g class=\"trace bars\" shape-rendering=\"crispEdges\" style=\"opacity: 1;\"><g class=\"points\"><g class=\"point\"><path d=\"M0,256.5V148.5H309.53V256.5Z\" style=\"vector-effect: non-scaling-stroke; opacity: 1; stroke-width: 0.5px; fill: rgb(171, 99, 250); fill-opacity: 1; stroke: rgb(229, 236, 246); stroke-opacity: 1;\"/></g><g class=\"point\"><path d=\"M0,121.5V13.5H0V121.5Z\" style=\"vector-effect: non-scaling-stroke; opacity: 1; stroke-width: 0.5px; fill: rgb(171, 99, 250); fill-opacity: 1; stroke: rgb(229, 236, 246); stroke-opacity: 1;\"/></g></g></g><g class=\"trace bars\" shape-rendering=\"crispEdges\" style=\"opacity: 1;\"><g class=\"points\"><g class=\"point\"><path d=\"M309.53,256.5V148.5H309.53V256.5Z\" style=\"vector-effect: non-scaling-stroke; opacity: 1; stroke-width: 0.5px; fill: rgb(255, 161, 90); fill-opacity: 1; stroke: rgb(229, 236, 246); stroke-opacity: 1;\"/></g><g class=\"point\"><path d=\"M0,121.5V13.5H0V121.5Z\" style=\"vector-effect: non-scaling-stroke; opacity: 1; stroke-width: 0.5px; fill: rgb(255, 161, 90); fill-opacity: 1; stroke: rgb(229, 236, 246); stroke-opacity: 1;\"/></g></g></g><g class=\"trace bars\" shape-rendering=\"crispEdges\" style=\"opacity: 1;\"><g class=\"points\"><g class=\"point\"><path d=\"M309.53,256.5V148.5H309.53V256.5Z\" style=\"vector-effect: non-scaling-stroke; opacity: 1; stroke-width: 0.5px; fill: rgb(25, 211, 243); fill-opacity: 1; stroke: rgb(229, 236, 246); stroke-opacity: 1;\"/></g><g class=\"point\"><path d=\"M0,121.5V13.5H411.35V121.5Z\" style=\"vector-effect: non-scaling-stroke; opacity: 1; stroke-width: 0.5px; fill: rgb(25, 211, 243); fill-opacity: 1; stroke: rgb(229, 236, 246); stroke-opacity: 1;\"/></g></g></g></g></g><g class=\"overplot\"/><path class=\"xlines-above crisp\" style=\"fill: none;\" d=\"M0,0\"/><path class=\"ylines-above crisp\" style=\"fill: none;\" d=\"M0,0\"/><g class=\"overlines-above\"/><g class=\"xaxislayer-above\"><g class=\"xtick\"><text text-anchor=\"middle\" x=\"0\" y=\"383\" transform=\"translate(115,0)\" style=\"font-family: 'Open Sans', verdana, arial, sans-serif; font-size: 12px; fill: rgb(42, 63, 95); fill-opacity: 1; white-space: pre;\">0</text></g><g class=\"xtick\"><text text-anchor=\"middle\" x=\"0\" y=\"383\" transform=\"translate(206.6,0)\" style=\"font-family: 'Open Sans', verdana, arial, sans-serif; font-size: 12px; fill: rgb(42, 63, 95); fill-opacity: 1; white-space: pre;\">5k</text></g><g class=\"xtick\"><text text-anchor=\"middle\" x=\"0\" y=\"383\" transform=\"translate(298.2,0)\" style=\"font-family: 'Open Sans', verdana, arial, sans-serif; font-size: 12px; fill: rgb(42, 63, 95); fill-opacity: 1; white-space: pre;\">10k</text></g><g class=\"xtick\"><text text-anchor=\"middle\" x=\"0\" y=\"383\" transform=\"translate(389.8,0)\" style=\"font-family: 'Open Sans', verdana, arial, sans-serif; font-size: 12px; fill: rgb(42, 63, 95); fill-opacity: 1; white-space: pre;\">15k</text></g><g class=\"xtick\"><text text-anchor=\"middle\" x=\"0\" y=\"383\" transform=\"translate(481.39,0)\" style=\"font-family: 'Open Sans', verdana, arial, sans-serif; font-size: 12px; fill: rgb(42, 63, 95); fill-opacity: 1; white-space: pre;\">20k</text></g></g><g class=\"yaxislayer-above\"><g class=\"ytick\"><text text-anchor=\"end\" x=\"114\" y=\"4.199999999999999\" transform=\"translate(0,302.5)\" style=\"font-family: 'Open Sans', verdana, arial, sans-serif; font-size: 12px; fill: rgb(42, 63, 95); fill-opacity: 1; white-space: pre;\">GCA_002691795</text></g><g class=\"ytick\"><text text-anchor=\"end\" x=\"114\" y=\"4.199999999999999\" transform=\"translate(0,167.5)\" style=\"font-family: 'Open Sans', verdana, arial, sans-serif; font-size: 12px; fill: rgb(42, 63, 95); fill-opacity: 1; white-space: pre;\">GCF_003143755</text></g></g><g class=\"overaxes-above\"/></g></g><g class=\"polarlayer\"/><g class=\"ternarylayer\"/><g class=\"geolayer\"/><g class=\"funnelarealayer\"/><g class=\"pielayer\"/><g class=\"treemaplayer\"/><g class=\"sunburstlayer\"/><g class=\"glimages\"/><defs id=\"topdefs-e28dbd\"><g class=\"clips\"/><clipPath id=\"legende28dbd\"><rect width=\"131\" height=\"124\" x=\"0\" y=\"0\"/></clipPath></defs><g class=\"layer-above\"><g class=\"imagelayer\"/><g class=\"shapelayer\"/></g><g class=\"infolayer\"><g class=\"legend\" pointer-events=\"all\" transform=\"translate(556.6600000000001, 100)\"><rect class=\"bg\" shape-rendering=\"crispEdges\" style=\"stroke: rgb(68, 68, 68); stroke-opacity: 1; fill: rgb(255, 255, 255); fill-opacity: 1; stroke-width: 0px;\" width=\"131\" height=\"124\" x=\"0\" y=\"0\"/><g class=\"scrollbox\" transform=\"translate(0, 0)\" clip-path=\"url('#legende28dbd')\"><g class=\"groups\"><g class=\"traces\" style=\"opacity: 1;\" transform=\"translate(0, 14.5)\"><text class=\"legendtext user-select-none\" text-anchor=\"start\" x=\"40\" y=\"4.680000000000001\" style=\"font-family: 'Open Sans', verdana, arial, sans-serif; font-size: 12px; fill: rgb(42, 63, 95); fill-opacity: 1; white-space: pre;\">genus</text><g class=\"layers\" style=\"opacity: 1;\"><g class=\"legendfill\"/><g class=\"legendlines\"/><g class=\"legendsymbols\"><g class=\"legendpoints\"><path class=\"legendundefined\" d=\"M6,6H-6V-6H6Z\" transform=\"translate(20,0)\" style=\"stroke-width: 0.5px; fill: rgb(25, 211, 243); fill-opacity: 1; stroke: rgb(229, 236, 246); stroke-opacity: 1;\"/></g></g></g><rect class=\"legendtoggle\" pointer-events=\"all\" x=\"0\" y=\"-9.5\" width=\"125.5\" height=\"19\" style=\"cursor: pointer; fill: rgb(0, 0, 0); fill-opacity: 0;\"/></g><g class=\"traces\" style=\"opacity: 1;\" transform=\"translate(0, 33.5)\"><text class=\"legendtext user-select-none\" text-anchor=\"start\" x=\"40\" y=\"4.680000000000001\" style=\"font-family: 'Open Sans', verdana, arial, sans-serif; font-size: 12px; fill: rgb(42, 63, 95); fill-opacity: 1; white-space: pre;\">family</text><g class=\"layers\" style=\"opacity: 1;\"><g class=\"legendfill\"/><g class=\"legendlines\"/><g class=\"legendsymbols\"><g class=\"legendpoints\"><path class=\"legendundefined\" d=\"M6,6H-6V-6H6Z\" transform=\"translate(20,0)\" style=\"stroke-width: 0.5px; fill: rgb(255, 161, 90); fill-opacity: 1; stroke: rgb(229, 236, 246); stroke-opacity: 1;\"/></g></g></g><rect class=\"legendtoggle\" pointer-events=\"all\" x=\"0\" y=\"-9.5\" width=\"125.5\" height=\"19\" style=\"cursor: pointer; fill: rgb(0, 0, 0); fill-opacity: 0;\"/></g><g class=\"traces\" style=\"opacity: 1;\" transform=\"translate(0, 52.5)\"><text class=\"legendtext user-select-none\" text-anchor=\"start\" x=\"40\" y=\"4.680000000000001\" style=\"font-family: 'Open Sans', verdana, arial, sans-serif; font-size: 12px; fill: rgb(42, 63, 95); fill-opacity: 1; white-space: pre;\">order</text><g class=\"layers\" style=\"opacity: 1;\"><g class=\"legendfill\"/><g class=\"legendlines\"/><g class=\"legendsymbols\"><g class=\"legendpoints\"><path class=\"legendundefined\" d=\"M6,6H-6V-6H6Z\" transform=\"translate(20,0)\" style=\"stroke-width: 0.5px; fill: rgb(171, 99, 250); fill-opacity: 1; stroke: rgb(229, 236, 246); stroke-opacity: 1;\"/></g></g></g><rect class=\"legendtoggle\" pointer-events=\"all\" x=\"0\" y=\"-9.5\" width=\"125.5\" height=\"19\" style=\"cursor: pointer; fill: rgb(0, 0, 0); fill-opacity: 0;\"/></g><g class=\"traces\" style=\"opacity: 1;\" transform=\"translate(0, 71.5)\"><text class=\"legendtext user-select-none\" text-anchor=\"start\" x=\"40\" y=\"4.680000000000001\" style=\"font-family: 'Open Sans', verdana, arial, sans-serif; font-size: 12px; fill: rgb(42, 63, 95); fill-opacity: 1; white-space: pre;\">class</text><g class=\"layers\" style=\"opacity: 1;\"><g class=\"legendfill\"/><g class=\"legendlines\"/><g class=\"legendsymbols\"><g class=\"legendpoints\"><path class=\"legendundefined\" d=\"M6,6H-6V-6H6Z\" transform=\"translate(20,0)\" style=\"stroke-width: 0.5px; fill: rgb(0, 204, 150); fill-opacity: 1; stroke: rgb(229, 236, 246); stroke-opacity: 1;\"/></g></g></g><rect class=\"legendtoggle\" pointer-events=\"all\" x=\"0\" y=\"-9.5\" width=\"125.5\" height=\"19\" style=\"cursor: pointer; fill: rgb(0, 0, 0); fill-opacity: 0;\"/></g><g class=\"traces\" style=\"opacity: 1;\" transform=\"translate(0, 90.5)\"><text class=\"legendtext user-select-none\" text-anchor=\"start\" x=\"40\" y=\"4.680000000000001\" style=\"font-family: 'Open Sans', verdana, arial, sans-serif; font-size: 12px; fill: rgb(42, 63, 95); fill-opacity: 1; white-space: pre;\">phylum</text><g class=\"layers\" style=\"opacity: 1;\"><g class=\"legendfill\"/><g class=\"legendlines\"/><g class=\"legendsymbols\"><g class=\"legendpoints\"><path class=\"legendundefined\" d=\"M6,6H-6V-6H6Z\" transform=\"translate(20,0)\" style=\"stroke-width: 0.5px; fill: rgb(239, 85, 59); fill-opacity: 1; stroke: rgb(229, 236, 246); stroke-opacity: 1;\"/></g></g></g><rect class=\"legendtoggle\" pointer-events=\"all\" x=\"0\" y=\"-9.5\" width=\"125.5\" height=\"19\" style=\"cursor: pointer; fill: rgb(0, 0, 0); fill-opacity: 0;\"/></g><g class=\"traces\" style=\"opacity: 1;\" transform=\"translate(0, 109.5)\"><text class=\"legendtext user-select-none\" text-anchor=\"start\" x=\"40\" y=\"4.680000000000001\" style=\"font-family: 'Open Sans', verdana, arial, sans-serif; font-size: 12px; fill: rgb(42, 63, 95); fill-opacity: 1; white-space: pre;\">superkingdom</text><g class=\"layers\" style=\"opacity: 1;\"><g class=\"legendfill\"/><g class=\"legendlines\"/><g class=\"legendsymbols\"><g class=\"legendpoints\"><path class=\"legendundefined\" d=\"M6,6H-6V-6H6Z\" transform=\"translate(20,0)\" style=\"stroke-width: 0.5px; fill: rgb(99, 110, 250); fill-opacity: 1; stroke: rgb(229, 236, 246); stroke-opacity: 1;\"/></g></g></g><rect class=\"legendtoggle\" pointer-events=\"all\" x=\"0\" y=\"-9.5\" width=\"125.5\" height=\"19\" style=\"cursor: pointer; fill: rgb(0, 0, 0); fill-opacity: 0;\"/></g></g></g><rect class=\"scrollbar\" rx=\"20\" ry=\"3\" width=\"0\" height=\"0\" style=\"fill: rgb(128, 139, 164); fill-opacity: 1;\" x=\"0\" y=\"0\"/></g><g class=\"g-gtitle\"><text class=\"gtitle\" x=\"35\" y=\"50\" text-anchor=\"start\" dy=\"0em\" style=\"font-family: 'Open Sans', verdana, arial, sans-serif; font-size: 17px; fill: rgb(42, 63, 95); opacity: 1; font-weight: normal; white-space: pre;\">top genome contamination by taxonomic rank: utput.demo/classify</text></g><g class=\"g-xtitle\"><text class=\"xtitle\" x=\"331.5\" y=\"410.3\" text-anchor=\"middle\" style=\"font-family: 'Open Sans', verdana, arial, sans-serif; font-size: 14px; fill: rgb(42, 63, 95); opacity: 1; font-weight: normal; white-space: pre;\">Estimated contamination by rank</text></g><g class=\"g-ytitle\"/></g></svg>"
      ]
     },
     "metadata": {},
     "output_type": "display_data"
    }
   ],
   "source": [
    "fig = plot_hitlist(f'{directory}/classify/{name}.x.{database}.taxonomy-report.csv', omit_genus=False)\n",
    "\n",
    "if not render: render_name = None\n",
    "else: render_name = render\n",
    "fig.show(render_name)"
   ]
  },
  {
   "cell_type": "code",
   "execution_count": 10,
   "metadata": {},
   "outputs": [
    {
     "data": {
      "text/markdown": [
       "\n",
       "## Individual contamination reports\n",
       "\n",
       "(Sorted by summed contamination at genus level.)\n",
       "\n",
       "* [`GCF_003143755`](GCF_003143755.fig.html)\n",
       "* [`GCA_002691795`](GCA_002691795.fig.html)\n",
       "\n",
       "## Problem Report\n",
       "\n",
       "0 genomes could not be analyzed for contamination.\n",
       "\n",
       "\n",
       "\n",
       "## Analyzed genomes for which no removable contamination was detected\n",
       "\n",
       "0 genomes had no removable contamination at any taxonomic level down to genus.\n",
       "\n",
       "(Some of this could be due to cryptic contamination or chimeric contigs. @CTB document.)\n",
       "\n",
       "\n",
       "\n"
      ],
      "text/plain": [
       "<IPython.core.display.Markdown object>"
      ]
     },
     "metadata": {},
     "output_type": "display_data"
    }
   ],
   "source": [
    "\n",
    "display(Markdown(f\"\"\"\n",
    "## Individual contamination reports\n",
    "\n",
    "(Sorted by summed contamination at genus level.)\n",
    "\n",
    "{display_genome_list(contaminated_list, 'genus_bad_bp')}\n",
    "\n",
    "## Problem Report\n",
    "\n",
    "{n_no_lineage} genomes could not be analyzed for contamination.\n",
    "\n",
    "{display_no_lineage_list()}\n",
    "\n",
    "## Analyzed genomes for which no removable contamination was detected\n",
    "\n",
    "{n_no_contam} genomes had no removable contamination at any taxonomic level down to genus.\n",
    "\n",
    "(Some of this could be due to cryptic contamination or chimeric contigs. @CTB document.)\n",
    "\n",
    "{display_genome_list(clean_list)}\n",
    "\n",
    "\"\"\"))"
   ]
  },
  {
   "cell_type": "code",
   "execution_count": null,
   "metadata": {},
   "outputs": [],
   "source": []
  }
 ],
 "metadata": {
  "kernelspec": {
   "display_name": "Python 3",
   "language": "python",
   "name": "python3"
  },
  "language_info": {
   "codemirror_mode": {
    "name": "ipython",
    "version": 3
   },
   "file_extension": ".py",
   "mimetype": "text/x-python",
   "name": "python",
   "nbconvert_exporter": "python",
   "pygments_lexer": "ipython3",
   "version": "3.7.8"
  }
 },
 "nbformat": 4,
 "nbformat_minor": 4
}
