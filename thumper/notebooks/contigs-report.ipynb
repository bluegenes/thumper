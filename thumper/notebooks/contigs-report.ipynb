{
 "cells": [
  {
   "cell_type": "code",
   "execution_count": 1,
   "metadata": {},
   "outputs": [],
   "source": [
    "# example parameters\n",
    "directory = '../../output.demo'\n",
    "name = 'GCA_002691795'\n",
    "render='svg'"
   ]
  },
  {
   "cell_type": "code",
   "execution_count": 2,
   "metadata": {},
   "outputs": [],
   "source": [
    "if not render: render_name = None\n",
    "else: render_name = render"
   ]
  },
  {
   "cell_type": "code",
   "execution_count": 3,
   "metadata": {},
   "outputs": [],
   "source": [
    "import os.path\n",
    "import collections\n",
    "\n",
    "import plotly.graph_objects as go\n",
    "\n",
    "import sourmash\n",
    "from thumper import charcoal_utils as utils\n",
    "from thumper.figs.sourmash_sankey import GenomeSankeyFlow"
   ]
  },
  {
   "cell_type": "code",
   "execution_count": 4,
   "metadata": {},
   "outputs": [
    {
     "data": {
      "text/markdown": [
       "# Thumper contig summary report for genome `GCA_002691795`"
      ],
      "text/plain": [
       "<IPython.core.display.Markdown object>"
      ]
     },
     "execution_count": 4,
     "metadata": {},
     "output_type": "execute_result"
    }
   ],
   "source": [
    "from IPython.display import Markdown as md\n",
    "from IPython.display import display\n",
    "md(f\"# Thumper contig summary report for genome `{name}`\")"
   ]
  },
  {
   "cell_type": "code",
   "execution_count": 5,
   "metadata": {},
   "outputs": [],
   "source": [
    "import os\n",
    "from thumper import charcoal_utils as utils"
   ]
  },
  {
   "cell_type": "code",
   "execution_count": null,
   "metadata": {},
   "outputs": [],
   "source": [
    "summary_csv = f'{directory}/classify/genome_summary.csv'\n",
    "summary = utils.CSV_DictHelper(summary_csv, 'genome')"
   ]
  },
  {
   "cell_type": "markdown",
   "metadata": {},
   "source": [
    "## Taxonomic assignments across ranks"
   ]
  },
  {
   "cell_type": "code",
   "execution_count": 6,
   "metadata": {},
   "outputs": [],
   "source": [
    "# start with charcoal fig functions\n",
    "\n",
    "def make_plotly_fig(obj, title):\n",
    "    \"Build a plotly figure/sankey diagram.\"\n",
    "    # make the data to go into the sankey figure.\n",
    "    labels = obj.make_labels()\n",
    "    src_l, dest_l, cnt_l, color_l, label_l = obj.make_lists()\n",
    "\n",
    "    # build figure\n",
    "    fig = go.Figure(data=[go.Sankey(\n",
    "        node = dict(\n",
    "          pad = 15,\n",
    "          thickness = 20,\n",
    "          line = dict(color = \"black\", width = 0.5),\n",
    "          label = labels,\n",
    "          color = \"blue\"\n",
    "        ),\n",
    "        link = dict(\n",
    "          source = src_l,\n",
    "          target = dest_l,\n",
    "          value = cnt_l,\n",
    "          color = color_l,\n",
    "          label = label_l,\n",
    "      ))])\n",
    "\n",
    "    if title:\n",
    "        fig.update_layout(title_text=title, font_size=10)\n",
    "\n",
    "    return fig"
   ]
  },
  {
   "cell_type": "code",
   "execution_count": 7,
   "metadata": {},
   "outputs": [],
   "source": [
    "def make_plotly_fig(obj, title):\n",
    "    \"Build a plotly figure/sankey diagram.\"\n",
    "    # make the data to go into the sankey figure.\n",
    "    labels = obj.make_labels()\n",
    "    src_l, dest_l, cnt_l, color_l, label_l = obj.make_lists()\n",
    "\n",
    "    # build figure\n",
    "    fig = go.Figure(data=[go.Sankey(\n",
    "        node = dict(\n",
    "          pad = 15,\n",
    "          thickness = 20,\n",
    "          line = dict(color = \"black\", width = 0.5),\n",
    "          label = labels,\n",
    "          color = \"blue\"\n",
    "        ),\n",
    "        link = dict(\n",
    "          source = src_l,\n",
    "          target = dest_l,\n",
    "          value = cnt_l,\n",
    "          color = color_l,\n",
    "          label = label_l,\n",
    "      ))])\n",
    "\n",
    "    if title:\n",
    "        fig.update_layout(title_text=title, font_size=10)\n",
    "\n",
    "    return fig\n",
    "\n",
    "\n",
    "def make_flow_fig(title, genome_lineage, contigs_info):\n",
    "    obj = GenomeSankeyFlow()\n",
    "    \n",
    "    counts = collections.Counter()\n",
    "    for contig_name, gather_info in contigs_info.items():\n",
    "        contig_taxlist = gather_info.gather_tax\n",
    "\n",
    "        # iterate over each contig match and summarize counts.              \n",
    "        # note - here we can stop at first one, or track them all.          \n",
    "        # note - b/c gather counts each hash only once, these               \n",
    "        #     are non-overlapping                                           \n",
    "        total_hashcount = 0\n",
    "        for lin, hashcount in contig_taxlist:\n",
    "            counts[lin] += hashcount\n",
    "            total_hashcount += hashcount\n",
    "            break # display only first\n",
    "\n",
    "        # track missing => unassigned lineage\n",
    "        unident = gather_info.num_hashes - total_hashcount\n",
    "        counts[obj.unassigned_lin] += unident\n",
    "\n",
    "    # extend genome_lineage ranks\n",
    "    last_genome_rank = genome_lineage[-1].rank\n",
    "    taxlist = list(sourmash.lca.taxlist())[:-2]\n",
    "    assert taxlist[-1] == 'genus', taxlist\n",
    "    \n",
    "    if genome_lineage[-1].rank != 'genus':\n",
    "        genome_lineage = list(genome_lineage)\n",
    "        for rank in taxlist[len(genome_lineage):]:\n",
    "            genome_lineage.append(sourmash.lca.LineagePair(rank=rank, name='unassigned'))\n",
    "    \n",
    "    # set the color of the main lineage\n",
    "    genome_lineage = tuple(genome_lineage)\n",
    "    obj.colors[genome_lineage] = \"lightseagreen\"\n",
    "    \n",
    "    # for phylum level disagreements, let's go with palevioletred\n",
    "    for lin in counts:\n",
    "        if not utils.is_lineage_match(lin, genome_lineage, 'phylum'):\n",
    "            obj.colors[lin] = 'palevioletred'\n",
    "            \n",
    "    # assign unassigned to good lineage, maybe?\n",
    "    counts[genome_lineage] += counts[obj.unassigned_lin]\n",
    "    del counts[obj.unassigned_lin]\n",
    "    \n",
    "    obj.make_links(genome_lineage, counts)\n",
    "    fig = make_plotly_fig(obj, title)\n",
    "    \n",
    "    return fig"
   ]
  },
  {
   "cell_type": "code",
   "execution_count": 8,
   "metadata": {},
   "outputs": [
    {
     "ename": "NameError",
     "evalue": "name 'summary_csv' is not defined",
     "output_type": "error",
     "traceback": [
      "\u001b[0;31m---------------------------------------------------------------------------\u001b[0m",
      "\u001b[0;31mNameError\u001b[0m                                 Traceback (most recent call last)",
      "\u001b[0;32m<ipython-input-8-baa9bd170998>\u001b[0m in \u001b[0;36m<module>\u001b[0;34m\u001b[0m\n\u001b[1;32m      1\u001b[0m \u001b[0mcontigs_filename\u001b[0m \u001b[0;34m=\u001b[0m \u001b[0;34mf'{directory}/{name}.contigs-rankgather.json'\u001b[0m\u001b[0;34m\u001b[0m\u001b[0;34m\u001b[0m\u001b[0m\n\u001b[1;32m      2\u001b[0m \u001b[0;34m\u001b[0m\u001b[0m\n\u001b[0;32m----> 3\u001b[0;31m \u001b[0msummary\u001b[0m \u001b[0;34m=\u001b[0m \u001b[0mutils\u001b[0m\u001b[0;34m.\u001b[0m\u001b[0mCSV_DictHelper\u001b[0m\u001b[0;34m(\u001b[0m\u001b[0msummary_csv\u001b[0m\u001b[0;34m,\u001b[0m \u001b[0;34m'genome'\u001b[0m\u001b[0;34m)\u001b[0m\u001b[0;34m\u001b[0m\u001b[0;34m\u001b[0m\u001b[0m\n\u001b[0m\u001b[1;32m      4\u001b[0m \u001b[0mrow\u001b[0m \u001b[0;34m=\u001b[0m \u001b[0msummary\u001b[0m\u001b[0;34m[\u001b[0m\u001b[0mname\u001b[0m\u001b[0;34m]\u001b[0m\u001b[0;34m\u001b[0m\u001b[0;34m\u001b[0m\u001b[0m\n\u001b[1;32m      5\u001b[0m \u001b[0mgenome_lineage\u001b[0m \u001b[0;34m=\u001b[0m \u001b[0mutils\u001b[0m\u001b[0;34m.\u001b[0m\u001b[0mmake_lineage\u001b[0m\u001b[0;34m(\u001b[0m\u001b[0mrow\u001b[0m\u001b[0;34m.\u001b[0m\u001b[0mlineage\u001b[0m\u001b[0;34m)\u001b[0m\u001b[0;34m\u001b[0m\u001b[0;34m\u001b[0m\u001b[0m\n",
      "\u001b[0;31mNameError\u001b[0m: name 'summary_csv' is not defined"
     ]
    }
   ],
   "source": [
    "contigs_filename = f'{directory}/{name}.contigs-rankgather.json'\n",
    "\n",
    "summary = utils.CSV_DictHelper(summary_csv, 'genome')\n",
    "row = summary[name]\n",
    "genome_lineage = utils.make_lineage(row.lineage)\n",
    "\n",
    "contigs_info = utils.load_contigs_gather_json(contigs_filename)\n",
    "\n",
    "title = sourmash.lca.display_lineage(genome_lineage)\n",
    "fig = make_flow_fig(title, genome_lineage, contigs_info)\n",
    "fig.show(render_name)"
   ]
  },
  {
   "cell_type": "code",
   "execution_count": null,
   "metadata": {},
   "outputs": [],
   "source": []
  }
 ],
 "metadata": {
  "kernelspec": {
   "display_name": "Python 3",
   "language": "python",
   "name": "python3"
  },
  "language_info": {
   "codemirror_mode": {
    "name": "ipython",
    "version": 3
   },
   "file_extension": ".py",
   "mimetype": "text/x-python",
   "name": "python",
   "nbconvert_exporter": "python",
   "pygments_lexer": "ipython3",
   "version": "3.7.8"
  }
 },
 "nbformat": 4,
 "nbformat_minor": 4
}
